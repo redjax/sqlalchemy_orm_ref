{
 "cells": [
  {
   "attachments": {},
   "cell_type": "markdown",
   "metadata": {},
   "source": [
    "# Setup"
   ]
  },
  {
   "attachments": {},
   "cell_type": "markdown",
   "metadata": {},
   "source": [
    "## Imports"
   ]
  },
  {
   "cell_type": "code",
   "execution_count": 1,
   "metadata": {},
   "outputs": [],
   "source": [
    "import sqlalchemy as sa\n"
   ]
  },
  {
   "cell_type": "code",
   "execution_count": 2,
   "metadata": {},
   "outputs": [],
   "source": [
    "from core.db import Base, get_engine, get_session\n",
    "\n",
    "## Import models so the Base object can find the metadata it needs to create\n",
    "from domain.models.demo import models as demo_models\n"
   ]
  },
  {
   "cell_type": "code",
   "execution_count": 3,
   "metadata": {},
   "outputs": [],
   "source": [
    "from core.config import notebook_settings\n",
    "\n",
    "NB_LOG = notebook_settings.NB_LOG\n",
    "NB_VERBOSE = notebook_settings.NB_VERBOSE"
   ]
  },
  {
   "attachments": {},
   "cell_type": "markdown",
   "metadata": {},
   "source": [
    "## Global vars/functions"
   ]
  },
  {
   "cell_type": "code",
   "execution_count": 4,
   "metadata": {},
   "outputs": [],
   "source": [
    "## Create custom database engine\n",
    "#  Re-use value of NB_LOG to determine engine echo state\n",
    "engine = get_engine(connection=\"db/demo.sqlite\", echo=NB_VERBOSE)\n"
   ]
  },
  {
   "cell_type": "code",
   "execution_count": 5,
   "metadata": {},
   "outputs": [
    {
     "name": "stdout",
     "output_type": "stream",
     "text": [
      "2023-06-04 16:09:24,004 INFO sqlalchemy.engine.Engine BEGIN (implicit)\n",
      "2023-06-04 16:09:24,005 INFO sqlalchemy.engine.Engine PRAGMA main.table_info(\"user_account\")\n",
      "2023-06-04 16:09:24,008 INFO sqlalchemy.engine.Engine [raw sql] ()\n",
      "2023-06-04 16:09:24,011 INFO sqlalchemy.engine.Engine PRAGMA temp.table_info(\"user_account\")\n",
      "2023-06-04 16:09:24,012 INFO sqlalchemy.engine.Engine [raw sql] ()\n",
      "2023-06-04 16:09:24,014 INFO sqlalchemy.engine.Engine PRAGMA main.table_info(\"address\")\n",
      "2023-06-04 16:09:24,015 INFO sqlalchemy.engine.Engine [raw sql] ()\n",
      "2023-06-04 16:09:24,016 INFO sqlalchemy.engine.Engine PRAGMA temp.table_info(\"address\")\n",
      "2023-06-04 16:09:24,017 INFO sqlalchemy.engine.Engine [raw sql] ()\n",
      "2023-06-04 16:09:24,019 INFO sqlalchemy.engine.Engine \n",
      "CREATE TABLE user_account (\n",
      "\tid INTEGER NOT NULL, \n",
      "\tname VARCHAR(30) NOT NULL, \n",
      "\tfullname VARCHAR, \n",
      "\tPRIMARY KEY (id)\n",
      ")\n",
      "\n",
      "\n",
      "2023-06-04 16:09:24,021 INFO sqlalchemy.engine.Engine [no key 0.00141s] ()\n",
      "2023-06-04 16:09:24,035 INFO sqlalchemy.engine.Engine \n",
      "CREATE TABLE address (\n",
      "\tid INTEGER NOT NULL, \n",
      "\temail_address VARCHAR NOT NULL, \n",
      "\tuser_id INTEGER NOT NULL, \n",
      "\tPRIMARY KEY (id), \n",
      "\tFOREIGN KEY(user_id) REFERENCES user_account (id)\n",
      ")\n",
      "\n",
      "\n",
      "2023-06-04 16:09:24,036 INFO sqlalchemy.engine.Engine [no key 0.00110s] ()\n",
      "2023-06-04 16:09:24,050 INFO sqlalchemy.engine.Engine COMMIT\n"
     ]
    }
   ],
   "source": [
    "## Create metadata\n",
    "try:\n",
    "    Base.metadata.create_all(bind=engine)\n",
    "except Exception as exc:\n",
    "    raise Exception(f\"Unhandled exception creating Base metadata. Details: {exc}\")\n"
   ]
  },
  {
   "cell_type": "code",
   "execution_count": 6,
   "metadata": {},
   "outputs": [
    {
     "name": "stdout",
     "output_type": "stream",
     "text": [
      "SessionLocal: <class 'sqlalchemy.orm.session.sessionmaker'>\n"
     ]
    }
   ],
   "source": [
    "## Create custom database session\n",
    "#  Use expire_on_commit=False for notebook sessions\n",
    "SessionLocal = get_session(engine=engine, expire_on_commit=False)\n",
    "print(f\"SessionLocal: {type(SessionLocal)}\")\n"
   ]
  },
  {
   "cell_type": "code",
   "execution_count": 7,
   "metadata": {},
   "outputs": [],
   "source": [
    "def demo_add_users():\n",
    "    \"\"\"\n",
    "    Demo function, creates static users on the fly and\n",
    "    commits them to the database.\n",
    "    \"\"\"\n",
    "\n",
    "    try:\n",
    "        with SessionLocal() as sess:\n",
    "            ## User1, all fields with single address\n",
    "            spongebob = demo_models.User(\n",
    "                name=\"spongebob\",\n",
    "                fullname=\"Spongebob Squarepants\",\n",
    "                addresses=[\n",
    "                    demo_models.Address(email_address=\"spongebob@sqlalchemy.org\")\n",
    "                ],\n",
    "            )\n",
    "\n",
    "            ## User 2, all fields with multiple addressess\n",
    "            sandy = demo_models.User(\n",
    "                name=\"sandy\",\n",
    "                fullname=\"Sandy Cheeks\",\n",
    "                addresses=[\n",
    "                    demo_models.Address(email_address=\"sandy@sqlalchemy.org\"),\n",
    "                    demo_models.Address(email_address=\"sandy@squirrelpower.org\"),\n",
    "                ],\n",
    "            )\n",
    "\n",
    "            ## User 3, naame & fullname, no address\n",
    "            patrick = demo_models.User(name=\"patrick\", fullname=\"Patrick Star\")\n",
    "\n",
    "            ## Build list of users to pass to add_all()\n",
    "            _users: list[demo_models.User] = [spongebob, sandy, patrick]\n",
    "            add_users: list[demo_models.User] = []\n",
    "\n",
    "            for _user in _users:\n",
    "                ## Check if _user already exists\n",
    "                if (\n",
    "                    not sess.query(demo_models.User)\n",
    "                    .filter(demo_models.User.name == _user.name)\n",
    "                    .count()\n",
    "                ):\n",
    "                    ## _user does not exist, add to add_users list\n",
    "                    add_users.append(_user)\n",
    "                else:\n",
    "                    print(f\"User '{_user.name}' already exists.\")\n",
    "                    pass\n",
    "\n",
    "            print(f\"Add users: {add_users}\")\n",
    "\n",
    "            ## Add all users to session\n",
    "            sess.add_all(add_users)\n",
    "\n",
    "            ## Commit to database\n",
    "            sess.commit()\n",
    "\n",
    "    except Exception as exc:\n",
    "        raise Exception(f\"Unhandled exception starting session. Details: {exc}\")"
   ]
  },
  {
   "cell_type": "code",
   "execution_count": 8,
   "metadata": {},
   "outputs": [],
   "source": [
    "def demo_select(\n",
    "    user_names: list[str] = [\"spongebob\", \"sandy\"]\n",
    ") -> list[demo_models.User]:\n",
    "    statement: sa.sql.Select = sa.select(demo_models.User).where(\n",
    "        demo_models.User.name.in_(user_names)\n",
    "    )\n",
    "\n",
    "    with SessionLocal() as sess:\n",
    "        all_users = sess.scalars(statement)\n",
    "\n",
    "        users: list[demo_models.User] = all_users.all()\n",
    "\n",
    "    return users\n"
   ]
  },
  {
   "attachments": {},
   "cell_type": "markdown",
   "metadata": {},
   "source": [
    "# Operations"
   ]
  },
  {
   "cell_type": "code",
   "execution_count": 9,
   "metadata": {},
   "outputs": [
    {
     "name": "stdout",
     "output_type": "stream",
     "text": [
      "2023-06-04 16:09:24,201 INFO sqlalchemy.engine.Engine BEGIN (implicit)\n",
      "2023-06-04 16:09:24,211 INFO sqlalchemy.engine.Engine SELECT count(*) AS count_1 \n",
      "FROM (SELECT user_account.id AS user_account_id, user_account.name AS user_account_name, user_account.fullname AS user_account_fullname \n",
      "FROM user_account \n",
      "WHERE user_account.name = ?) AS anon_1\n",
      "2023-06-04 16:09:24,213 INFO sqlalchemy.engine.Engine [generated in 0.00156s] ('spongebob',)\n",
      "2023-06-04 16:09:24,216 INFO sqlalchemy.engine.Engine SELECT count(*) AS count_1 \n",
      "FROM (SELECT user_account.id AS user_account_id, user_account.name AS user_account_name, user_account.fullname AS user_account_fullname \n",
      "FROM user_account \n",
      "WHERE user_account.name = ?) AS anon_1\n",
      "2023-06-04 16:09:24,218 INFO sqlalchemy.engine.Engine [cached since 0.007098s ago] ('sandy',)\n",
      "2023-06-04 16:09:24,221 INFO sqlalchemy.engine.Engine SELECT count(*) AS count_1 \n",
      "FROM (SELECT user_account.id AS user_account_id, user_account.name AS user_account_name, user_account.fullname AS user_account_fullname \n",
      "FROM user_account \n",
      "WHERE user_account.name = ?) AS anon_1\n",
      "2023-06-04 16:09:24,222 INFO sqlalchemy.engine.Engine [cached since 0.01046s ago] ('patrick',)\n",
      "Add users: [User(id=None, name='spongebob', fullname='Spongebob Squarepants'), User(id=None, name='sandy', fullname='Sandy Cheeks'), User(id=None, name='patrick', fullname='Patrick Star')]\n",
      "2023-06-04 16:09:24,226 INFO sqlalchemy.engine.Engine INSERT INTO user_account (name, fullname) VALUES (?, ?) RETURNING id\n",
      "2023-06-04 16:09:24,229 INFO sqlalchemy.engine.Engine [generated in 0.00014s (insertmanyvalues) 1/3 (ordered; batch not supported)] ('spongebob', 'Spongebob Squarepants')\n",
      "2023-06-04 16:09:24,231 INFO sqlalchemy.engine.Engine INSERT INTO user_account (name, fullname) VALUES (?, ?) RETURNING id\n",
      "2023-06-04 16:09:24,232 INFO sqlalchemy.engine.Engine [insertmanyvalues 2/3 (ordered; batch not supported)] ('sandy', 'Sandy Cheeks')\n",
      "2023-06-04 16:09:24,234 INFO sqlalchemy.engine.Engine INSERT INTO user_account (name, fullname) VALUES (?, ?) RETURNING id\n",
      "2023-06-04 16:09:24,236 INFO sqlalchemy.engine.Engine [insertmanyvalues 3/3 (ordered; batch not supported)] ('patrick', 'Patrick Star')\n",
      "2023-06-04 16:09:24,240 INFO sqlalchemy.engine.Engine INSERT INTO address (email_address, user_id) VALUES (?, ?) RETURNING id\n",
      "2023-06-04 16:09:24,241 INFO sqlalchemy.engine.Engine [generated in 0.00027s (insertmanyvalues) 1/3 (ordered; batch not supported)] ('spongebob@sqlalchemy.org', 1)\n",
      "2023-06-04 16:09:24,245 INFO sqlalchemy.engine.Engine INSERT INTO address (email_address, user_id) VALUES (?, ?) RETURNING id\n",
      "2023-06-04 16:09:24,246 INFO sqlalchemy.engine.Engine [insertmanyvalues 2/3 (ordered; batch not supported)] ('sandy@sqlalchemy.org', 2)\n",
      "2023-06-04 16:09:24,247 INFO sqlalchemy.engine.Engine INSERT INTO address (email_address, user_id) VALUES (?, ?) RETURNING id\n",
      "2023-06-04 16:09:24,249 INFO sqlalchemy.engine.Engine [insertmanyvalues 3/3 (ordered; batch not supported)] ('sandy@squirrelpower.org', 2)\n",
      "2023-06-04 16:09:24,252 INFO sqlalchemy.engine.Engine COMMIT\n"
     ]
    }
   ],
   "source": [
    "add_users = demo_add_users()\n"
   ]
  },
  {
   "cell_type": "code",
   "execution_count": 10,
   "metadata": {},
   "outputs": [
    {
     "name": "stdout",
     "output_type": "stream",
     "text": [
      "2023-06-04 16:09:24,295 INFO sqlalchemy.engine.Engine BEGIN (implicit)\n",
      "2023-06-04 16:09:24,300 INFO sqlalchemy.engine.Engine SELECT user_account.id, user_account.name, user_account.fullname \n",
      "FROM user_account \n",
      "WHERE user_account.name IN (?, ?)\n",
      "2023-06-04 16:09:24,301 INFO sqlalchemy.engine.Engine [generated in 0.00115s] ('spongebob', 'sandy')\n",
      "2023-06-04 16:09:24,306 INFO sqlalchemy.engine.Engine ROLLBACK\n"
     ]
    }
   ],
   "source": [
    "select_users = demo_select()"
   ]
  },
  {
   "cell_type": "code",
   "execution_count": 11,
   "metadata": {},
   "outputs": [
    {
     "data": {
      "text/plain": [
       "\"Users: [User(id=1, name='spongebob', fullname='Spongebob Squarepants'), User(id=2, name='sandy', fullname='Sandy Cheeks')]\""
      ]
     },
     "metadata": {},
     "output_type": "display_data"
    }
   ],
   "source": [
    "if NB_LOG:\n",
    "    display(f\"Users: {select_users}\")\n"
   ]
  }
 ],
 "metadata": {
  "kernelspec": {
   "display_name": ".venv",
   "language": "python",
   "name": "python3"
  },
  "language_info": {
   "codemirror_mode": {
    "name": "ipython",
    "version": 3
   },
   "file_extension": ".py",
   "mimetype": "text/x-python",
   "name": "python",
   "nbconvert_exporter": "python",
   "pygments_lexer": "ipython3",
   "version": "3.10.6"
  },
  "orig_nbformat": 4
 },
 "nbformat": 4,
 "nbformat_minor": 2
}
