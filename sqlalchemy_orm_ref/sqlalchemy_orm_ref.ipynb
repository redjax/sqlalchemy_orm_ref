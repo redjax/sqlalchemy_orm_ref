{
 "cells": [
  {
   "attachments": {},
   "cell_type": "markdown",
   "metadata": {},
   "source": [
    "# SQLAlchemy ORM Ref\n",
    "[*v0.1*]\n",
    "\n",
    "Notebook for prototyping SQLAlchemy 2.0's new ORM syntax."
   ]
  },
  {
   "attachments": {},
   "cell_type": "markdown",
   "metadata": {},
   "source": [
    "# Setup\n",
    "\n",
    "Cells in this section handle notebook setup, like importing packages and functions/vars from scripts."
   ]
  },
  {
   "attachments": {},
   "cell_type": "markdown",
   "metadata": {},
   "source": [
    "## Imports\n",
    "\n",
    "Import `stdlib` packages (i.e. `pathlib.Path`) and package dependencies."
   ]
  },
  {
   "attachments": {},
   "cell_type": "markdown",
   "metadata": {},
   "source": [
    "### stdlib"
   ]
  },
  {
   "cell_type": "code",
   "execution_count": 672,
   "metadata": {},
   "outputs": [],
   "source": [
    "from pathlib import Path\n",
    "import json\n",
    "from typing import Any, Optional, Union, Type\n",
    "from typing_extensions import Annotated\n",
    "import datetime\n",
    "import decimal\n",
    "import uuid\n",
    "import enum"
   ]
  },
  {
   "attachments": {},
   "cell_type": "markdown",
   "metadata": {},
   "source": [
    "### Dependencies\n",
    "\n",
    "Packages installed with `pip` (or some equivalent tool)"
   ]
  },
  {
   "cell_type": "code",
   "execution_count": 673,
   "metadata": {},
   "outputs": [],
   "source": [
    "import sqlalchemy as sa\n",
    "from sqlalchemy import Table, Column, create_engine, MetaData, func\n",
    "from sqlalchemy.orm import (\n",
    "    DeclarativeBase,\n",
    "    Mapped,\n",
    "    mapped_column,\n",
    "    relationship,\n",
    "    Session,\n",
    "    registry,\n",
    ")\n",
    "\n",
    "## Use with print to demo table SQL, i.e. print(CreateTable(SomeClass.__table__))\n",
    "from sqlalchemy.schema import CreateTable"
   ]
  },
  {
   "attachments": {},
   "cell_type": "markdown",
   "metadata": {},
   "source": [
    "## Global Vars\n",
    "\n",
    "Variables for use throughout the notebook"
   ]
  },
  {
   "cell_type": "code",
   "execution_count": 674,
   "metadata": {},
   "outputs": [],
   "source": [
    "nb_log: bool = True\n",
    "nb_verbose: bool = False"
   ]
  },
  {
   "attachments": {},
   "cell_type": "markdown",
   "metadata": {},
   "source": [
    "## Functions\n",
    "\n",
    "Notebook-level functions. These differ from functions imported from scripts in that they are either prototypes, or functions meant only for the notebook."
   ]
  },
  {
   "attachments": {},
   "cell_type": "markdown",
   "metadata": {},
   "source": [
    "### Notebook Functions"
   ]
  },
  {
   "cell_type": "code",
   "execution_count": null,
   "metadata": {},
   "outputs": [],
   "source": []
  },
  {
   "attachments": {},
   "cell_type": "markdown",
   "metadata": {},
   "source": [
    "### Prototype"
   ]
  },
  {
   "cell_type": "code",
   "execution_count": null,
   "metadata": {},
   "outputs": [],
   "source": []
  },
  {
   "attachments": {},
   "cell_type": "markdown",
   "metadata": {},
   "source": [
    "## Classes\n",
    "\n",
    "Notebook-level classes. These differ from classes/models imported from scripts in that they are either prototypes, or functions meant only for the notebook."
   ]
  },
  {
   "attachments": {},
   "cell_type": "markdown",
   "metadata": {},
   "source": [
    "## SQLAlchemy Setup"
   ]
  },
  {
   "attachments": {},
   "cell_type": "markdown",
   "metadata": {},
   "source": [
    "### SQLAlchemy Functions"
   ]
  },
  {
   "cell_type": "code",
   "execution_count": 675,
   "metadata": {},
   "outputs": [],
   "source": [
    "def print_sql(\n",
    "    _class: Union[\"User\", \"UserAnnotated\", \"Address\", \"AddressAnnotated\"] = None\n",
    ") -> None:\n",
    "    \"\"\"Print the SQL generated from a Mapped SQLAlchemy class.\n",
    "\n",
    "    Put classnames in the Union[] list, and use quotes. This enabled type hinting before\n",
    "    the class is declared.\n",
    "    \"\"\"\n",
    "    if not _class:\n",
    "        raise ValueError(\"Missing class input.\")\n",
    "\n",
    "    print(\n",
    "        f\"Generated SQL for class [{_class.__tablename__}]:\\n{CreateTable(_class.__table__)}\"\n",
    "    )"
   ]
  },
  {
   "attachments": {},
   "cell_type": "markdown",
   "metadata": {},
   "source": [
    "### SQLAlchemy Classes\n",
    "\n",
    "- [Docs: DeclarativeBase](https://docs.sqlalchemy.org/en/20/orm/declarative_styles.html#orm-declarative-generated-base-class)\n",
    "- [Docs: MetaData object](https://docs.sqlalchemy.org/en/20/tutorial/metadata.html#tutorial-working-with-metadata)\n",
    "- [Docs: Working with registry](https://docs.sqlalchemy.org/en/20/orm/declarative_styles.html#orm-declarative-generated-base-class)"
   ]
  },
  {
   "cell_type": "code",
   "execution_count": 676,
   "metadata": {},
   "outputs": [],
   "source": [
    "## Registry object stores mappings & config hooks\n",
    "reg = registry()"
   ]
  },
  {
   "cell_type": "code",
   "execution_count": 677,
   "metadata": {},
   "outputs": [],
   "source": [
    "## If using a DeclarativeBase class, initialize with Base class's metadata.create_all()\n",
    "#  Choose one or the other, declarative classes with DeclarativeBase, or a metadata obj\n",
    "#  and implicit tables\n",
    "\n",
    "\n",
    "## SQLAlchemy DeclarativeBase is the parent class object table classes will inherit from\n",
    "#  https://docs.sqlalchemy.org/en/20/orm/declarative_styles.html#using-a-declarative-base-class\n",
    "class Base(DeclarativeBase):\n",
    "    registry = reg\n",
    "\n",
    "\n",
    "## SQLAlchemy MetaData object\n",
    "#  https://docs.sqlalchemy.org/en/20/tutorial/metadata.html#tutorial-working-with-metadata\n",
    "# metadata: MetaData = MetaData()"
   ]
  },
  {
   "cell_type": "code",
   "execution_count": 678,
   "metadata": {},
   "outputs": [],
   "source": [
    "## Type map for class datatypes\n",
    "#  https://docs.sqlalchemy.org/en/20/orm/declarative_tables.html#orm-declarative-mapped-column-type-map\n",
    "\n",
    "# default type mapping, deriving the type for mapped_column()\n",
    "# from a Mapped[] annotation\n",
    "# type_map: dict[Type[Any], sa.types.TypeEngine[Any]] = {\n",
    "#     bool: sa.types.Boolean(),\n",
    "#     bytes: sa.types.LargeBinary(),\n",
    "#     datetime.date: sa.types.Date(),\n",
    "#     datetime.datetime: sa.types.DateTime(),\n",
    "#     datetime.time: sa.types.Time(),\n",
    "#     datetime.timedelta: sa.types.Interval(),\n",
    "#     decimal.Decimal: sa.types.Numeric(),\n",
    "#     float: sa.types.Float(),\n",
    "#     int: sa.types.Integer(),\n",
    "#     str: sa.types.String(),\n",
    "#     uuid.UUID: sa.types.Uuid(),\n",
    "# }"
   ]
  },
  {
   "cell_type": "code",
   "execution_count": 679,
   "metadata": {},
   "outputs": [],
   "source": [
    "## Compose configurations for mapped columns, i.e. generate an ID or a timestamp\n",
    "#  https://docs.sqlalchemy.org/en/20/orm/declarative_tables.html#mapping-whole-column-declarations-to-python-types\n",
    "\n",
    "## Annotate a primary key of type integer\n",
    "intpk = Annotated[int, mapped_column(primary_key=True)]\n",
    "\n",
    "## Annotate a timestamp, i.e. for created_at values\n",
    "timestamp = Annotated[\n",
    "    datetime.datetime,\n",
    "    mapped_column(nullable=False, server_default=func.current_timestamp()),\n",
    "]\n",
    "\n",
    "## Set a non-nullable annotated field\n",
    "required_name = Annotated[str, mapped_column(sa.String(30), nullable=False)]\n",
    "optional_name = Annotated[str, mapped_column(sa.String(30), nullable=True)]\n",
    "\n",
    "\n",
    "## Example of a mapped class with an Enum class\n",
    "class Status(enum.Enum):\n",
    "    PENDING = \"pending\"\n",
    "    RECEIVED = \"received\"\n",
    "    COMPLETED = \"completed\""
   ]
  },
  {
   "attachments": {},
   "cell_type": "markdown",
   "metadata": {},
   "source": [
    "#### Declarative Mapping\n",
    "\n",
    "[Docs: Declarative Mapping](https://docs.sqlalchemy.org/en/20/orm/mapping_styles.html)"
   ]
  },
  {
   "cell_type": "code",
   "execution_count": 680,
   "metadata": {},
   "outputs": [],
   "source": [
    "\"\"\"\n",
    "Create mapped classes. (write more eventually)\n",
    "\"\"\"\n",
    "\n",
    "\n",
    "class User(Base):\n",
    "    __tablename__ = \"user\"\n",
    "\n",
    "    # metadata: MetaData = metadata\n",
    "    id: Mapped[int] = mapped_column(sa.Integer, primary_key=True)\n",
    "    name: Mapped[str] = mapped_column(sa.String(50), index=True, nullable=False)\n",
    "    fullname: Mapped[Optional[str]] = mapped_column(sa.String)\n",
    "    ## Create timestamp on the fly\n",
    "    nickname: Mapped[Optional[str]]\n",
    "    created_at: Mapped[datetime.datetime] = mapped_column(insert_default=func.now())\n",
    "\n",
    "    ## Use cascade options to delete relationships when User is deleted\n",
    "    #  https://docs.sqlalchemy.org/en/20/orm/cascades.html#cascades\n",
    "    addresses: Mapped[list[\"Address\"]] = relationship(\n",
    "        back_populates=\"user\", cascade=\"all, delete-orphan, delete, save-update\"\n",
    "    )\n",
    "\n",
    "\n",
    "# class UserAnnotated(Base):\n",
    "#     \"\"\"\n",
    "#     Inherit mapped typings/configuration defaults from Annotated types above.\n",
    "#     \"\"\"\n",
    "\n",
    "#     __tablename__ = \"user_annotated\"\n",
    "\n",
    "#     id: Mapped[intpk]\n",
    "#     name: Mapped[required_name]\n",
    "#     fullname: Mapped[optional_name]\n",
    "#     ## Timestamp will be generated as a datetime.datetime object\n",
    "#     created_at: Mapped[Optional[timestamp]]\n",
    "\n",
    "#     addresses: Mapped[list[\"Address\"]] = relationship(back_populates=\"user_annotated\")\n",
    "\n",
    "\n",
    "class Address(Base):\n",
    "    __tablename__ = \"address\"\n",
    "\n",
    "    id: Mapped[int] = mapped_column(sa.Integer, primary_key=True)\n",
    "    user_id = mapped_column(sa.ForeignKey(\"user.id\"))\n",
    "    email_address: Mapped[str] = mapped_column(sa.String, index=True)\n",
    "\n",
    "    user: Mapped[\"User\"] = relationship(\n",
    "        back_populates=\"addresses\", cascade=\"all, delete\"\n",
    "    )\n",
    "\n",
    "\n",
    "# class AddressAnnotated(Base):\n",
    "#     __tablename__ = \"address_annotated\"\n",
    "\n",
    "#     id: Mapped[intpk]\n",
    "#     ## Create ForeignKey using config defined in intpk, set as ForeignKey for column\n",
    "#     user_id: Mapped[intpk] = mapped_column(sa.ForeignKey(\"user_annotated.id\"))\n",
    "#     ## Override server default, set to UTC timestamp\n",
    "#     created_at: Mapped[timestamp] = mapped_column(server_default=func.UTC_TIMESTAMP())"
   ]
  },
  {
   "cell_type": "code",
   "execution_count": 681,
   "metadata": {},
   "outputs": [],
   "source": [
    "class Product(Base):\n",
    "    __tablename__ = \"product\"\n",
    "\n",
    "    id: Mapped[intpk]\n",
    "    status: Mapped[Status]"
   ]
  },
  {
   "cell_type": "code",
   "execution_count": 682,
   "metadata": {},
   "outputs": [
    {
     "name": "stdout",
     "output_type": "stream",
     "text": [
      "Generated SQL for class [user]:\n",
      "\n",
      "CREATE TABLE \"user\" (\n",
      "\tid INTEGER NOT NULL, \n",
      "\tname VARCHAR(50) NOT NULL, \n",
      "\tfullname VARCHAR, \n",
      "\tnickname VARCHAR, \n",
      "\tcreated_at DATETIME NOT NULL, \n",
      "\tPRIMARY KEY (id)\n",
      ")\n",
      "\n",
      "\n",
      "Generated SQL for class [address]:\n",
      "\n",
      "CREATE TABLE address (\n",
      "\tid INTEGER NOT NULL, \n",
      "\tuser_id INTEGER, \n",
      "\temail_address VARCHAR NOT NULL, \n",
      "\tPRIMARY KEY (id), \n",
      "\tFOREIGN KEY(user_id) REFERENCES \"user\" (id)\n",
      ")\n",
      "\n",
      "\n",
      "Generated SQL for class [product]:\n",
      "\n",
      "CREATE TABLE product (\n",
      "\tid INTEGER NOT NULL, \n",
      "\tstatus VARCHAR(9) NOT NULL, \n",
      "\tPRIMARY KEY (id)\n",
      ")\n",
      "\n",
      "\n"
     ]
    }
   ],
   "source": [
    "print_sql(User)\n",
    "print_sql(Address)\n",
    "# print_sql(UserAnnotated)\n",
    "# print_sql(AddressAnnotated)\n",
    "print_sql(Product)"
   ]
  },
  {
   "attachments": {},
   "cell_type": "markdown",
   "metadata": {},
   "source": [
    "### Engine"
   ]
  },
  {
   "cell_type": "code",
   "execution_count": 683,
   "metadata": {},
   "outputs": [],
   "source": [
    "## Create connection string for engine\n",
    "sqlite_db: str = \"demo.sqlite\"\n",
    "SQLALCHEMY_DB_URI: str = f\"sqlite+pysqlite:///{sqlite_db}\"\n",
    "\n",
    "## Create engine\n",
    "#  https://docs.sqlalchemy.org/en/20/tutorial/engine.html\n",
    "engine = create_engine(SQLALCHEMY_DB_URI, echo=True)"
   ]
  },
  {
   "cell_type": "code",
   "execution_count": 684,
   "metadata": {},
   "outputs": [],
   "source": [
    "## https://docs.sqlalchemy.org/en/20/orm/session_basics.html#basics-of-using-a-session\n",
    "SessionLocal: Session = Session(bind=engine)"
   ]
  },
  {
   "attachments": {},
   "cell_type": "markdown",
   "metadata": {},
   "source": [
    "# Operations\n",
    "\n",
    "Functions & data operations."
   ]
  },
  {
   "cell_type": "code",
   "execution_count": 685,
   "metadata": {},
   "outputs": [
    {
     "name": "stdout",
     "output_type": "stream",
     "text": [
      "2023-05-27 16:06:32,004 INFO sqlalchemy.engine.Engine BEGIN (implicit)\n",
      "2023-05-27 16:06:32,006 INFO sqlalchemy.engine.Engine PRAGMA main.table_info(\"user\")\n",
      "2023-05-27 16:06:32,007 INFO sqlalchemy.engine.Engine [raw sql] ()\n",
      "2023-05-27 16:06:32,015 INFO sqlalchemy.engine.Engine PRAGMA temp.table_info(\"user\")\n",
      "2023-05-27 16:06:32,017 INFO sqlalchemy.engine.Engine [raw sql] ()\n",
      "2023-05-27 16:06:32,020 INFO sqlalchemy.engine.Engine PRAGMA main.table_info(\"address\")\n",
      "2023-05-27 16:06:32,022 INFO sqlalchemy.engine.Engine [raw sql] ()\n",
      "2023-05-27 16:06:32,024 INFO sqlalchemy.engine.Engine PRAGMA temp.table_info(\"address\")\n",
      "2023-05-27 16:06:32,025 INFO sqlalchemy.engine.Engine [raw sql] ()\n",
      "2023-05-27 16:06:32,027 INFO sqlalchemy.engine.Engine PRAGMA main.table_info(\"product\")\n",
      "2023-05-27 16:06:32,028 INFO sqlalchemy.engine.Engine [raw sql] ()\n",
      "2023-05-27 16:06:32,030 INFO sqlalchemy.engine.Engine PRAGMA temp.table_info(\"product\")\n",
      "2023-05-27 16:06:32,031 INFO sqlalchemy.engine.Engine [raw sql] ()\n",
      "2023-05-27 16:06:32,033 INFO sqlalchemy.engine.Engine \n",
      "CREATE TABLE user (\n",
      "\tid INTEGER NOT NULL, \n",
      "\tname VARCHAR(50) NOT NULL, \n",
      "\tfullname VARCHAR, \n",
      "\tnickname VARCHAR, \n",
      "\tcreated_at DATETIME NOT NULL, \n",
      "\tPRIMARY KEY (id)\n",
      ")\n",
      "\n",
      "\n",
      "2023-05-27 16:06:32,036 INFO sqlalchemy.engine.Engine [no key 0.00312s] ()\n",
      "2023-05-27 16:06:32,050 INFO sqlalchemy.engine.Engine CREATE INDEX ix_user_name ON user (name)\n",
      "2023-05-27 16:06:32,051 INFO sqlalchemy.engine.Engine [no key 0.00107s] ()\n",
      "2023-05-27 16:06:32,067 INFO sqlalchemy.engine.Engine \n",
      "CREATE TABLE product (\n",
      "\tid INTEGER NOT NULL, \n",
      "\tstatus VARCHAR(9) NOT NULL, \n",
      "\tPRIMARY KEY (id)\n",
      ")\n",
      "\n",
      "\n",
      "2023-05-27 16:06:32,068 INFO sqlalchemy.engine.Engine [no key 0.00089s] ()\n",
      "2023-05-27 16:06:32,082 INFO sqlalchemy.engine.Engine \n",
      "CREATE TABLE address (\n",
      "\tid INTEGER NOT NULL, \n",
      "\tuser_id INTEGER, \n",
      "\temail_address VARCHAR NOT NULL, \n",
      "\tPRIMARY KEY (id), \n",
      "\tFOREIGN KEY(user_id) REFERENCES user (id)\n",
      ")\n",
      "\n",
      "\n",
      "2023-05-27 16:06:32,083 INFO sqlalchemy.engine.Engine [no key 0.00119s] ()\n",
      "2023-05-27 16:06:32,098 INFO sqlalchemy.engine.Engine CREATE INDEX ix_address_email_address ON address (email_address)\n",
      "2023-05-27 16:06:32,099 INFO sqlalchemy.engine.Engine [no key 0.00118s] ()\n",
      "2023-05-27 16:06:32,115 INFO sqlalchemy.engine.Engine COMMIT\n"
     ]
    }
   ],
   "source": [
    "## Initialize database, create all metadata\n",
    "Base.metadata.create_all(bind=engine)"
   ]
  },
  {
   "attachments": {},
   "cell_type": "markdown",
   "metadata": {},
   "source": [
    "## Examples"
   ]
  },
  {
   "attachments": {},
   "cell_type": "markdown",
   "metadata": {},
   "source": [
    "## Create users, add to session, and commit\n",
    "\n",
    "Use the following one-liner to check for object existence before adding:\n",
    "\n",
    "```\n",
    "if session.query(model).filter(some_filter).count():\n",
    "    ...\n",
    "```\n",
    "\n",
    "For example, to query by a User's name, where `name` = `sandy`:\n",
    "\n",
    "```\n",
    "if not session.query(User).filter(User.name == \"sandy\").count():\n",
    "    print(\"User does not exist\")\n",
    "\n",
    "```"
   ]
  },
  {
   "cell_type": "code",
   "execution_count": 686,
   "metadata": {},
   "outputs": [
    {
     "name": "stdout",
     "output_type": "stream",
     "text": [
      "2023-05-27 16:06:32,167 INFO sqlalchemy.engine.Engine BEGIN (implicit)\n",
      "2023-05-27 16:06:32,174 INFO sqlalchemy.engine.Engine SELECT count(*) AS count_1 \n",
      "FROM (SELECT user.id AS user_id, user.name AS user_name, user.fullname AS user_fullname, user.nickname AS user_nickname, user.created_at AS user_created_at \n",
      "FROM user \n",
      "WHERE user.name = ?) AS anon_1\n",
      "2023-05-27 16:06:32,176 INFO sqlalchemy.engine.Engine [generated in 0.00221s] ('spongebob',)\n",
      "2023-05-27 16:06:32,179 INFO sqlalchemy.engine.Engine SELECT count(*) AS count_1 \n",
      "FROM (SELECT user.id AS user_id, user.name AS user_name, user.fullname AS user_fullname, user.nickname AS user_nickname, user.created_at AS user_created_at \n",
      "FROM user \n",
      "WHERE user.name = ?) AS anon_1\n",
      "2023-05-27 16:06:32,181 INFO sqlalchemy.engine.Engine [cached since 0.006957s ago] ('sandy',)\n",
      "2023-05-27 16:06:32,184 INFO sqlalchemy.engine.Engine SELECT count(*) AS count_1 \n",
      "FROM (SELECT user.id AS user_id, user.name AS user_name, user.fullname AS user_fullname, user.nickname AS user_nickname, user.created_at AS user_created_at \n",
      "FROM user \n",
      "WHERE user.name = ?) AS anon_1\n",
      "2023-05-27 16:06:32,186 INFO sqlalchemy.engine.Engine [cached since 0.01143s ago] ('patrick',)\n",
      "2023-05-27 16:06:32,188 INFO sqlalchemy.engine.Engine SELECT count(*) AS count_1 \n",
      "FROM (SELECT user.id AS user_id, user.name AS user_name, user.fullname AS user_fullname, user.nickname AS user_nickname, user.created_at AS user_created_at \n",
      "FROM user \n",
      "WHERE user.name = ?) AS anon_1\n",
      "2023-05-27 16:06:32,189 INFO sqlalchemy.engine.Engine [cached since 0.01484s ago] ('jack',)\n",
      "2023-05-27 16:06:32,196 INFO sqlalchemy.engine.Engine INSERT INTO user (name, fullname, nickname, created_at) VALUES (?, ?, ?, CURRENT_TIMESTAMP) RETURNING id, created_at\n",
      "2023-05-27 16:06:32,197 INFO sqlalchemy.engine.Engine [generated in 0.00021s (insertmanyvalues) 1/4 (ordered; batch not supported)] ('spongebob', 'Spongebob Squarepants', None)\n",
      "2023-05-27 16:06:32,200 INFO sqlalchemy.engine.Engine INSERT INTO user (name, fullname, nickname, created_at) VALUES (?, ?, ?, CURRENT_TIMESTAMP) RETURNING id, created_at\n",
      "2023-05-27 16:06:32,201 INFO sqlalchemy.engine.Engine [insertmanyvalues 2/4 (ordered; batch not supported)] ('sandy', 'Sandy Cheeks', None)\n",
      "2023-05-27 16:06:32,203 INFO sqlalchemy.engine.Engine INSERT INTO user (name, fullname, nickname, created_at) VALUES (?, ?, ?, CURRENT_TIMESTAMP) RETURNING id, created_at\n",
      "2023-05-27 16:06:32,204 INFO sqlalchemy.engine.Engine [insertmanyvalues 3/4 (ordered; batch not supported)] ('patrick', 'Patrick Start', None)\n",
      "2023-05-27 16:06:32,206 INFO sqlalchemy.engine.Engine INSERT INTO user (name, fullname, nickname, created_at) VALUES (?, ?, ?, CURRENT_TIMESTAMP) RETURNING id, created_at\n",
      "2023-05-27 16:06:32,207 INFO sqlalchemy.engine.Engine [insertmanyvalues 4/4 (ordered; batch not supported)] ('jack', 'Jack Sparrow', None)\n",
      "2023-05-27 16:06:32,211 INFO sqlalchemy.engine.Engine INSERT INTO address (user_id, email_address) VALUES (?, ?) RETURNING id\n",
      "2023-05-27 16:06:32,212 INFO sqlalchemy.engine.Engine [generated in 0.00016s (insertmanyvalues) 1/4 (ordered; batch not supported)] (1, 'spongebob@sqlalchemy.org')\n",
      "2023-05-27 16:06:32,215 INFO sqlalchemy.engine.Engine INSERT INTO address (user_id, email_address) VALUES (?, ?) RETURNING id\n",
      "2023-05-27 16:06:32,217 INFO sqlalchemy.engine.Engine [insertmanyvalues 2/4 (ordered; batch not supported)] (2, 'sandy@sqlalchemy.org')\n",
      "2023-05-27 16:06:32,218 INFO sqlalchemy.engine.Engine INSERT INTO address (user_id, email_address) VALUES (?, ?) RETURNING id\n",
      "2023-05-27 16:06:32,219 INFO sqlalchemy.engine.Engine [insertmanyvalues 3/4 (ordered; batch not supported)] (2, 'sandy@squirrelpower.org')\n",
      "2023-05-27 16:06:32,221 INFO sqlalchemy.engine.Engine INSERT INTO address (user_id, email_address) VALUES (?, ?) RETURNING id\n",
      "2023-05-27 16:06:32,221 INFO sqlalchemy.engine.Engine [insertmanyvalues 4/4 (ordered; batch not supported)] (4, 'captjack@blackpearl.org')\n",
      "2023-05-27 16:06:32,223 INFO sqlalchemy.engine.Engine COMMIT\n"
     ]
    }
   ],
   "source": [
    "## https://docs.sqlalchemy.org/en/20/orm/quickstart.html#create-objects-and-persist\n",
    "\n",
    "with SessionLocal as sess:\n",
    "    ## Create users on the fly\n",
    "    spongebob = User(\n",
    "        name=\"spongebob\",\n",
    "        fullname=\"Spongebob Squarepants\",\n",
    "        addresses=[Address(email_address=\"spongebob@sqlalchemy.org\")],\n",
    "    )\n",
    "\n",
    "    sandy = User(\n",
    "        name=\"sandy\",\n",
    "        fullname=\"Sandy Cheeks\",\n",
    "        addresses=[\n",
    "            Address(email_address=\"sandy@sqlalchemy.org\"),\n",
    "            Address(email_address=\"sandy@squirrelpower.org\"),\n",
    "        ],\n",
    "    )\n",
    "\n",
    "    patrick = User(name=\"patrick\", fullname=\"Patrick Start\")\n",
    "\n",
    "    jack = User(\n",
    "        name=\"jack\",\n",
    "        fullname=\"Jack Sparrow\",\n",
    "        addresses=[Address(email_address=\"captjack@blackpearl.org\")],\n",
    "    )\n",
    "\n",
    "    ## Create list of users to loop over\n",
    "    _users: list[User] = [spongebob, sandy, patrick, jack]\n",
    "    ## Create empty list to store users to commit to db\n",
    "    add_users: list[User] = []\n",
    "\n",
    "    ## Loop over _users list\n",
    "    for _user in _users:\n",
    "        ## Check if _user already exists\n",
    "        if not sess.query(User).filter(User.name == _user.name).count():\n",
    "            ## _user does not exist, add to add_users list\n",
    "            add_users.append(_user)\n",
    "        else:\n",
    "            display(f\"Skipping User '{_user.name}', User already exists.\")\n",
    "\n",
    "    ## Add all users in add_users list to session\n",
    "    sess.add_all(add_users)\n",
    "\n",
    "    ## Commit to session\n",
    "    sess.commit()"
   ]
  },
  {
   "cell_type": "code",
   "execution_count": 687,
   "metadata": {},
   "outputs": [
    {
     "name": "stdout",
     "output_type": "stream",
     "text": [
      "2023-05-27 16:06:32,277 INFO sqlalchemy.engine.Engine BEGIN (implicit)\n",
      "2023-05-27 16:06:32,282 INFO sqlalchemy.engine.Engine SELECT user.id, user.name, user.fullname, user.nickname, user.created_at \n",
      "FROM user \n",
      "WHERE user.name IN (?, ?, ?)\n",
      "2023-05-27 16:06:32,283 INFO sqlalchemy.engine.Engine [generated in 0.00156s] ('sandy', 'jack', 'patrick')\n"
     ]
    },
    {
     "data": {
      "text/plain": [
       "'User: Jack Sparrow'"
      ]
     },
     "metadata": {},
     "output_type": "display_data"
    },
    {
     "name": "stdout",
     "output_type": "stream",
     "text": [
      "2023-05-27 16:06:32,293 INFO sqlalchemy.engine.Engine SELECT address.id AS address_id, address.user_id AS address_user_id, address.email_address AS address_email_address \n",
      "FROM address \n",
      "WHERE ? = address.user_id\n",
      "2023-05-27 16:06:32,295 INFO sqlalchemy.engine.Engine [generated in 0.00226s] (4,)\n"
     ]
    },
    {
     "data": {
      "text/plain": [
       "'User address: captjack@blackpearl.org'"
      ]
     },
     "metadata": {},
     "output_type": "display_data"
    },
    {
     "data": {
      "text/plain": [
       "'User: Patrick Start'"
      ]
     },
     "metadata": {},
     "output_type": "display_data"
    },
    {
     "name": "stdout",
     "output_type": "stream",
     "text": [
      "2023-05-27 16:06:32,303 INFO sqlalchemy.engine.Engine SELECT address.id AS address_id, address.user_id AS address_user_id, address.email_address AS address_email_address \n",
      "FROM address \n",
      "WHERE ? = address.user_id\n",
      "2023-05-27 16:06:32,305 INFO sqlalchemy.engine.Engine [cached since 0.01196s ago] (3,)\n"
     ]
    },
    {
     "data": {
      "text/plain": [
       "'User Patrick Start does not have any addresses.'"
      ]
     },
     "metadata": {},
     "output_type": "display_data"
    },
    {
     "data": {
      "text/plain": [
       "'User: Sandy Cheeks'"
      ]
     },
     "metadata": {},
     "output_type": "display_data"
    },
    {
     "name": "stdout",
     "output_type": "stream",
     "text": [
      "2023-05-27 16:06:32,314 INFO sqlalchemy.engine.Engine SELECT address.id AS address_id, address.user_id AS address_user_id, address.email_address AS address_email_address \n",
      "FROM address \n",
      "WHERE ? = address.user_id\n",
      "2023-05-27 16:06:32,315 INFO sqlalchemy.engine.Engine [cached since 0.02255s ago] (2,)\n"
     ]
    },
    {
     "data": {
      "text/plain": [
       "'User address: sandy@sqlalchemy.org'"
      ]
     },
     "metadata": {},
     "output_type": "display_data"
    },
    {
     "data": {
      "text/plain": [
       "'User address: sandy@squirrelpower.org'"
      ]
     },
     "metadata": {},
     "output_type": "display_data"
    },
    {
     "name": "stdout",
     "output_type": "stream",
     "text": [
      "2023-05-27 16:06:32,322 INFO sqlalchemy.engine.Engine ROLLBACK\n"
     ]
    }
   ],
   "source": [
    "## Select multiple users\n",
    "#  https://docs.sqlalchemy.org/en/20/orm/quickstart.html#simple-select\n",
    "stmt_sel_multi = sa.select(User).where(User.name.in_([\"sandy\", \"jack\", \"patrick\"]))\n",
    "\n",
    "with SessionLocal as sess:\n",
    "    for user in sess.scalars(stmt_sel_multi):\n",
    "        display(f\"User: {user.fullname}\")\n",
    "        if user.addresses:\n",
    "            for addr in user.addresses:\n",
    "                display(f\"User address: {addr.email_address}\")\n",
    "        else:\n",
    "            display(f\"User {user.fullname} does not have any addresses.\")"
   ]
  },
  {
   "cell_type": "code",
   "execution_count": 688,
   "metadata": {},
   "outputs": [
    {
     "name": "stdout",
     "output_type": "stream",
     "text": [
      "2023-05-27 16:06:32,356 INFO sqlalchemy.engine.Engine BEGIN (implicit)\n",
      "2023-05-27 16:06:32,359 INFO sqlalchemy.engine.Engine SELECT address.id, address.user_id, address.email_address \n",
      "FROM address JOIN user ON user.id = address.user_id \n",
      "WHERE user.name = ? AND address.email_address = ?\n",
      "2023-05-27 16:06:32,360 INFO sqlalchemy.engine.Engine [generated in 0.00130s] ('sandy', 'sandy@sqlalchemy.org')\n",
      "2023-05-27 16:06:32,364 INFO sqlalchemy.engine.Engine COMMIT\n"
     ]
    },
    {
     "data": {
      "text/plain": [
       "'Sandy address: <__main__.Address object at 0x7f611631ef20>'"
      ]
     },
     "metadata": {},
     "output_type": "display_data"
    }
   ],
   "source": [
    "## Select with JOIN\n",
    "#  https://docs.sqlalchemy.org/en/20/orm/quickstart.html#select-with-join\n",
    "\n",
    "sel_join_stmt = (\n",
    "    sa.Select(Address)\n",
    "    .join(Address.user)\n",
    "    .where(User.name == \"sandy\")\n",
    "    .where(Address.email_address == \"sandy@sqlalchemy.org\")\n",
    ")\n",
    "\n",
    "with SessionLocal as sess, sess.begin():\n",
    "    sandy_addr = sess.scalars(sel_join_stmt).one()\n",
    "\n",
    "if sandy_addr:\n",
    "    display(f\"Sandy address: {sandy_addr}\")"
   ]
  },
  {
   "cell_type": "code",
   "execution_count": 689,
   "metadata": {},
   "outputs": [
    {
     "name": "stdout",
     "output_type": "stream",
     "text": [
      "2023-05-27 16:06:32,401 INFO sqlalchemy.engine.Engine BEGIN (implicit)\n",
      "2023-05-27 16:06:32,404 INFO sqlalchemy.engine.Engine SELECT user.id, user.name, user.fullname, user.nickname, user.created_at \n",
      "FROM user \n",
      "WHERE user.name = ?\n",
      "2023-05-27 16:06:32,407 INFO sqlalchemy.engine.Engine [generated in 0.00292s] ('patrick',)\n",
      "2023-05-27 16:06:32,410 INFO sqlalchemy.engine.Engine SELECT address.id AS address_id, address.user_id AS address_user_id, address.email_address AS address_email_address \n",
      "FROM address \n",
      "WHERE ? = address.user_id\n",
      "2023-05-27 16:06:32,411 INFO sqlalchemy.engine.Engine [cached since 0.1185s ago] (3,)\n",
      "2023-05-27 16:06:32,416 INFO sqlalchemy.engine.Engine INSERT INTO address (user_id, email_address) VALUES (?, ?)\n",
      "2023-05-27 16:06:32,417 INFO sqlalchemy.engine.Engine [generated in 0.00110s] (3, 'patrickstar@sqlalchemy.org')\n",
      "2023-05-27 16:06:32,421 INFO sqlalchemy.engine.Engine COMMIT\n"
     ]
    }
   ],
   "source": [
    "## Make changes to object\n",
    "#  https://docs.sqlalchemy.org/en/20/orm/quickstart.html#make-changes\n",
    "update_stmt = sa.select(User).where(User.name == \"patrick\")\n",
    "\n",
    "with SessionLocal as sess:\n",
    "    patrick = sess.scalars(update_stmt).one()\n",
    "    patrick.addresses.append(Address(email_address=\"patrickstar@sqlalchemy.org\"))\n",
    "\n",
    "    sandy_addr = \"sandy_cheeks@sqlalchemy.org\"\n",
    "\n",
    "    sess.commit()"
   ]
  },
  {
   "cell_type": "code",
   "execution_count": 690,
   "metadata": {},
   "outputs": [
    {
     "name": "stdout",
     "output_type": "stream",
     "text": [
      "2023-05-27 16:06:32,463 INFO sqlalchemy.engine.Engine BEGIN (implicit)\n",
      "2023-05-27 16:06:32,467 INFO sqlalchemy.engine.Engine SELECT user.id AS user_id, user.name AS user_name, user.fullname AS user_fullname, user.nickname AS user_nickname, user.created_at AS user_created_at \n",
      "FROM user \n",
      "WHERE user.id = ?\n",
      "2023-05-27 16:06:32,469 INFO sqlalchemy.engine.Engine [generated in 0.00172s] (2,)\n",
      "2023-05-27 16:06:32,473 INFO sqlalchemy.engine.Engine SELECT user.id AS user_id, user.name AS user_name, user.fullname AS user_fullname, user.nickname AS user_nickname, user.created_at AS user_created_at \n",
      "FROM user \n",
      "WHERE user.id = ?\n",
      "2023-05-27 16:06:32,474 INFO sqlalchemy.engine.Engine [generated in 0.00110s] (3,)\n",
      "2023-05-27 16:06:32,476 INFO sqlalchemy.engine.Engine SELECT address.id AS address_id, address.user_id AS address_user_id, address.email_address AS address_email_address \n",
      "FROM address \n",
      "WHERE ? = address.user_id\n",
      "2023-05-27 16:06:32,477 INFO sqlalchemy.engine.Engine [cached since 0.1838s ago] (3,)\n",
      "2023-05-27 16:06:32,483 INFO sqlalchemy.engine.Engine DELETE FROM address WHERE address.id = ?\n",
      "2023-05-27 16:06:32,484 INFO sqlalchemy.engine.Engine [generated in 0.00131s] (5,)\n",
      "2023-05-27 16:06:32,488 INFO sqlalchemy.engine.Engine DELETE FROM user WHERE user.id = ?\n",
      "2023-05-27 16:06:32,489 INFO sqlalchemy.engine.Engine [generated in 0.00135s] (3,)\n",
      "2023-05-27 16:06:32,493 INFO sqlalchemy.engine.Engine COMMIT\n"
     ]
    }
   ],
   "source": [
    "## Delete\n",
    "#  https://docs.sqlalchemy.org/en/20/orm/quickstart.html#some-deletes\n",
    "\n",
    "with SessionLocal as sess, sess.begin():\n",
    "    sandy = sess.get(User, 2)\n",
    "\n",
    "    ## Flush session, delete address before closing session\n",
    "    sess.flush()\n",
    "\n",
    "    ## Remove user Patrick\n",
    "    sess.delete(patrick)\n",
    "\n",
    "    ## Commit changes\n",
    "    sess.commit()"
   ]
  }
 ],
 "metadata": {
  "kernelspec": {
   "display_name": ".venv",
   "language": "python",
   "name": "python3"
  },
  "language_info": {
   "codemirror_mode": {
    "name": "ipython",
    "version": 3
   },
   "file_extension": ".py",
   "mimetype": "text/x-python",
   "name": "python",
   "nbconvert_exporter": "python",
   "pygments_lexer": "ipython3",
   "version": "3.10.6"
  },
  "orig_nbformat": 4
 },
 "nbformat": 4,
 "nbformat_minor": 2
}
