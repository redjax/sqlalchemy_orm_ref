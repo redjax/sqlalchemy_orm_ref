{
 "cells": [
  {
   "attachments": {},
   "cell_type": "markdown",
   "metadata": {},
   "source": [
    "# Docs walkthrough\n",
    "[*v0.1*]\n",
    "\n",
    "Reference notebook while working through docs"
   ]
  },
  {
   "attachments": {},
   "cell_type": "markdown",
   "metadata": {},
   "source": [
    "# Setup\n",
    "\n",
    "Cells in this section handle notebook setup, like importing packages and functions/vars from scripts."
   ]
  },
  {
   "attachments": {},
   "cell_type": "markdown",
   "metadata": {},
   "source": [
    "## Imports\n",
    "\n",
    "Import `stdlib` packages (i.e. `pathlib.Path`) and package dependencies."
   ]
  },
  {
   "attachments": {},
   "cell_type": "markdown",
   "metadata": {},
   "source": [
    "### stdlib"
   ]
  },
  {
   "cell_type": "code",
   "execution_count": null,
   "metadata": {},
   "outputs": [],
   "source": [
    "from pathlib import Path\n",
    "import json\n",
    "from typing import Any, Optional, Union, Optional, Type\n",
    "from datetime import datetime, timedelta"
   ]
  },
  {
   "attachments": {},
   "cell_type": "markdown",
   "metadata": {},
   "source": [
    "### Dependencies\n",
    "\n",
    "Packages installed with `pip` (or some equivalent tool)"
   ]
  },
  {
   "cell_type": "code",
   "execution_count": null,
   "metadata": {},
   "outputs": [],
   "source": [
    "import sqlalchemy as sa\n",
    "from sqlalchemy import ForeignKey, String, create_engine, MetaData, func\n",
    "from sqlalchemy.orm import DeclarativeBase, Mapped, mapped_column, relationship, Session"
   ]
  },
  {
   "cell_type": "code",
   "execution_count": null,
   "metadata": {},
   "outputs": [],
   "source": [
    "from core.config import notebook_settings\n",
    "\n",
    "display(f\"Notebook settings: {notebook_settings}\")"
   ]
  },
  {
   "attachments": {},
   "cell_type": "markdown",
   "metadata": {},
   "source": [
    "## Global Vars\n",
    "\n",
    "Variables for use throughout the notebook"
   ]
  },
  {
   "cell_type": "code",
   "execution_count": null,
   "metadata": {},
   "outputs": [],
   "source": [
    "nb_log: bool = notebook_settings.NB_LOG | False\n",
    "nb_verbose: bool = notebook_settings.NB_VERBOSE | False"
   ]
  },
  {
   "cell_type": "code",
   "execution_count": null,
   "metadata": {},
   "outputs": [],
   "source": [
    "## SQLAlchemy type mapping\n",
    "#  https://docs.sqlalchemy.org/en/20/orm/declarative_tables.html#mapped-column-derives-the-datatype-and-nullability-from-the-mapped-annotation\n",
    "from sqlalchemy import types\n",
    "import datetime\n",
    "import decimal\n",
    "import uuid\n",
    "\n",
    "type_map: dict[Type[Any], types.TypeEngine[Any]] = {\n",
    "    bool: types.Boolean(),\n",
    "    bytes: types.LargeBinary(),\n",
    "    datetime.date: types.Date(),\n",
    "    datetime.datetime: types.DateTime(),\n",
    "    datetime.timedelta: types.Interval(),\n",
    "    decimal.Decimal: types.Numeric(),\n",
    "    float: types.Float(),\n",
    "    int: types.Integer(),\n",
    "    str: types.String().with_variant(types.NVARCHAR, \"mssql\"),\n",
    "    uuid.UUID: types.Uuid().with_variant(types.String, \"sqlite\"),\n",
    "}"
   ]
  },
  {
   "cell_type": "code",
   "execution_count": null,
   "metadata": {},
   "outputs": [],
   "source": [
    "## Map multiple type configurations to Python types\n",
    "#  https://docs.sqlalchemy.org/en/20/orm/declarative_tables.html#mapping-multiple-type-configurations-to-python-types\n",
    "from typing_extensions import Annotated\n",
    "from sqlalchemy import Numeric, String\n",
    "from sqlalchemy.orm import registry\n",
    "\n",
    "## Typing annotations here allow for type hints, i.e. in VSCode or Jupyter notebook\n",
    "str_30: str = Annotated[str, 30]\n",
    "str_50: str = Annotated[str, 50]\n",
    "num_12_4: decimal.Decimal = Annotated[decimal.Decimal, 12]\n",
    "num_6_2: decimal.Decimal = Annotated[decimal.Decimal, 6]\n",
    "\n",
    "registry = registry(\n",
    "    type_annotation_map={\n",
    "        str_30: String(30),\n",
    "        str_50: String(50),\n",
    "        num_12_4: Numeric(12, 4),\n",
    "        num_6_2: Numeric(6, 2),\n",
    "    }\n",
    ")"
   ]
  },
  {
   "attachments": {},
   "cell_type": "markdown",
   "metadata": {},
   "source": [
    "## Functions\n",
    "\n",
    "Notebook-level functions. These differ from functions imported from scripts in that they are either prototypes, or functions meant only for the notebook."
   ]
  },
  {
   "attachments": {},
   "cell_type": "markdown",
   "metadata": {},
   "source": [
    "### Notebook Functions"
   ]
  },
  {
   "cell_type": "code",
   "execution_count": null,
   "metadata": {},
   "outputs": [],
   "source": []
  },
  {
   "attachments": {},
   "cell_type": "markdown",
   "metadata": {},
   "source": [
    "### Prototype"
   ]
  },
  {
   "attachments": {},
   "cell_type": "markdown",
   "metadata": {},
   "source": [
    "## Classes\n",
    "\n",
    "Notebook-level classes. These differ from classes/models imported from scripts in that they are either prototypes, or functions meant only for the notebook."
   ]
  },
  {
   "cell_type": "code",
   "execution_count": null,
   "metadata": {},
   "outputs": [],
   "source": [
    "## SQLAlchemy declarative Base\n",
    "#  https://docs.sqlalchemy.org/en/20/orm/declarative_styles.html#using-a-declarative-base-class\n",
    "#  https://docs.sqlalchemy.org/en/20/orm/declarative_tables.html#customizing-the-type-map\n",
    "class Base(DeclarativeBase):\n",
    "    type_annotation_map = type_map"
   ]
  },
  {
   "cell_type": "code",
   "execution_count": null,
   "metadata": {},
   "outputs": [],
   "source": [
    "class User(Base):\n",
    "    __tablename__ = \"user_account\"\n",
    "\n",
    "    id: Mapped[int] = mapped_column(primary_key=True)\n",
    "    name: Mapped[str] = mapped_column(String(30))\n",
    "    fullname: Mapped[Optional[str]]\n",
    "    nickname: Mapped[Optional[str]] = mapped_column(String(64))\n",
    "    create_date: Mapped[datetime.datetime] = mapped_column(insert_default=func.now())\n",
    "\n",
    "    addresses: Mapped[\"Address\"] = relationship(back_populates=\"user\")\n",
    "\n",
    "    def __repr__(self) -> str:\n",
    "        return f\"User(id={self.id!r}, name={self.name!r}, fullname={self.fullname!r}, nickname={self.nickname!r})\""
   ]
  },
  {
   "cell_type": "code",
   "execution_count": null,
   "metadata": {},
   "outputs": [],
   "source": [
    "class Address(Base):\n",
    "    __tablename__ = \"address\"\n",
    "\n",
    "    id: Mapped[int] = mapped_column(primary_key=True)\n",
    "    user_id: Mapped[int] = mapped_column(ForeignKey(\"user_account.id\"))\n",
    "    email_address: Mapped[str]\n",
    "\n",
    "    user: Mapped[\"User\"] = relationship(back_populates=\"addresses\")\n",
    "\n",
    "    def __repr__(self) -> str:\n",
    "        return f\"Address(id={self.id!r}, email_address={self.email_address!r})\""
   ]
  },
  {
   "cell_type": "code",
   "execution_count": null,
   "metadata": {},
   "outputs": [],
   "source": [
    "## Create user with dialect specified\n",
    "#  https://docs.sqlalchemy.org/en/20/orm/declarative_tables.html#customizing-the-type-map\n",
    "from sqlalchemy.schema import CreateTable\n",
    "from sqlalchemy.dialects import mssql, postgresql, sqlite\n",
    "\n",
    "print(CreateTable(User.__table__).compile(dialect=sqlite.dialect()))"
   ]
  },
  {
   "attachments": {},
   "cell_type": "markdown",
   "metadata": {},
   "source": [
    "## SQLAlchemy connection & engine"
   ]
  },
  {
   "cell_type": "code",
   "execution_count": null,
   "metadata": {},
   "outputs": [],
   "source": [
    "sqlite_db: str = \"demo.sqlite\"\n",
    "\n",
    "SQLALCHEMY_DB_URI: str = f\"sqlite:///{sqlite_db}\""
   ]
  },
  {
   "cell_type": "code",
   "execution_count": null,
   "metadata": {},
   "outputs": [],
   "source": [
    "## Create engine\n",
    "engine = create_engine(SQLALCHEMY_DB_URI, echo=True)"
   ]
  },
  {
   "cell_type": "code",
   "execution_count": null,
   "metadata": {},
   "outputs": [],
   "source": [
    "SessionLocal: Session = Session(bind=engine)"
   ]
  },
  {
   "attachments": {},
   "cell_type": "markdown",
   "metadata": {},
   "source": [
    "# Operations\n",
    "\n",
    "Functions & data operations."
   ]
  },
  {
   "cell_type": "code",
   "execution_count": null,
   "metadata": {},
   "outputs": [],
   "source": [
    "## Create metadata\n",
    "Base.metadata.create_all(engine)"
   ]
  },
  {
   "cell_type": "code",
   "execution_count": null,
   "metadata": {},
   "outputs": [],
   "source": [
    "## Create objects and persis\n",
    "with SessionLocal as session:\n",
    "    spongebob = User(\n",
    "        name=\"spongebob\",\n",
    "        fullname=\"Spongebob Squarepants\",\n",
    "        addresses=[Address(email_address=\"spongebob@sqlalchemy.org\")],\n",
    "    )\n",
    "\n",
    "    sandy = User(\n",
    "        name=\"Sandy\",\n",
    "        fullname=\"Sandy Cheeks\",\n",
    "        addresses=[\n",
    "            Address(email_address=\"sandy@sqlalchemy.org\"),\n",
    "            Address(email_address=\"sandy@squirrelpower.org\"),\n",
    "        ],\n",
    "    )\n",
    "\n",
    "    patrick = User(name=\"patrick\", fullname=\"Patrick Star\")\n",
    "\n",
    "    ## Add objects to session and commit\n",
    "    session.add_all([spongebob, sandy, patrick])\n",
    "\n",
    "    session.commit()"
   ]
  },
  {
   "cell_type": "code",
   "execution_count": null,
   "metadata": {},
   "outputs": [],
   "source": [
    "## Simple select"
   ]
  },
  {
   "attachments": {},
   "cell_type": "markdown",
   "metadata": {},
   "source": [
    "## Examples"
   ]
  },
  {
   "cell_type": "code",
   "execution_count": null,
   "metadata": {},
   "outputs": [],
   "source": []
  }
 ],
 "metadata": {
  "kernelspec": {
   "display_name": ".venv",
   "language": "python",
   "name": "python3"
  },
  "language_info": {
   "codemirror_mode": {
    "name": "ipython",
    "version": 3
   },
   "file_extension": ".py",
   "mimetype": "text/x-python",
   "name": "python",
   "nbconvert_exporter": "python",
   "pygments_lexer": "ipython3",
   "version": "3.10.6"
  },
  "orig_nbformat": 4
 },
 "nbformat": 4,
 "nbformat_minor": 2
}
